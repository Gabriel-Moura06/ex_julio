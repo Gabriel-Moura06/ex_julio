{
  "cells": [
    {
      "cell_type": "markdown",
      "metadata": {
        "id": "view-in-github",
        "colab_type": "text"
      },
      "source": [
        "<a href=\"https://colab.research.google.com/github/Gabriel-Moura06/ex_julio/blob/main/EXARUEJULI.ipynb\" target=\"_parent\"><img src=\"https://colab.research.google.com/assets/colab-badge.svg\" alt=\"Open In Colab\"/></a>"
      ]
    },
    {
      "cell_type": "code",
      "execution_count": null,
      "metadata": {
        "colab": {
          "base_uri": "https://localhost:8080/"
        },
        "id": "bSa_oCb8nPUz",
        "outputId": "a6cbf015-1b27-4b71-fa66-d92ebb29fc5a"
      },
      "outputs": [
        {
          "name": "stdout",
          "output_type": "stream",
          "text": [
            "[[1 2]\n",
            " [3 4]]\n"
          ]
        }
      ],
      "source": [
        "#LISTA ARUANE\n",
        "#19\n",
        "\n",
        "import numpy as np\n",
        "matriz = np.array([[1,2],\n",
        "                  [3,4]])\n",
        "\n",
        "print(matriz)"
      ]
    },
    {
      "cell_type": "code",
      "execution_count": null,
      "metadata": {
        "colab": {
          "base_uri": "https://localhost:8080/"
        },
        "id": "lKkKcSsPoZTr",
        "outputId": "d2c4a120-7041-488e-d5c4-9361fb98ad79"
      },
      "outputs": [
        {
          "name": "stdout",
          "output_type": "stream",
          "text": [
            "Elemento [1, 1]: 1\n",
            "Elemento [1, 2]: 2\n",
            "Elemento [1, 3]: 3\n",
            "Elemento [2, 1]: 4\n",
            "Elemento [2, 2]: 5\n",
            "Elemento [2, 3]: 6\n",
            "Elemento [3, 1]: 7\n",
            "Elemento [3, 2]: 8\n",
            "Elemento [3, 3]: 9\n",
            "[1, 2, 3]\n",
            "[4, 5, 6]\n",
            "[7, 8, 9]\n"
          ]
        }
      ],
      "source": [
        "#20\n",
        "a11 = int(input(\"Elemento [1, 1]: \"))\n",
        "a12 = int(input(\"Elemento [1, 2]: \"))\n",
        "a13 = int(input(\"Elemento [1, 3]: \"))\n",
        "a21 = int(input(\"Elemento [2, 1]: \"))\n",
        "a22 = int(input(\"Elemento [2, 2]: \"))\n",
        "a23 = int(input(\"Elemento [2, 3]: \"))\n",
        "a31 = int(input(\"Elemento [3, 1]: \"))\n",
        "a32 = int(input(\"Elemento [3, 2]: \"))\n",
        "a33 = int(input(\"Elemento [3, 3]: \"))\n",
        "\n",
        "\n",
        "matriz = [[a11, a12, a13], [a21, a22, a23], [a31, a32, a33]]\n",
        "\n",
        "print(matriz[0])\n",
        "print(matriz[1])\n",
        "print(matriz[2])\n"
      ]
    },
    {
      "cell_type": "code",
      "source": [
        "#21\n",
        "import numpy as np\n",
        "\n",
        "a11 = int(input(\"digite o elemento:\"))\n",
        "a12 = int(input(\"digite o elemento:\"))\n",
        "a21 = int(input(\"digite o elemento:\"))\n",
        "a22 = int(input(\"digite o elemento:\"))\n",
        "\n",
        "matriz = np.array([[a11,a12],\n",
        "                  [a21,a22]])\n",
        "\n",
        "print(matriz)\n",
        "print(\"segunda matriz:\")\n",
        "\n",
        "a1 = int(input(\"digite o elemento:\"))\n",
        "a2 = int(input(\"digite o elemento:\"))\n",
        "a3 = int(input(\"digite o elemento:\"))\n",
        "a4 = int(input(\"digite o elemento:\"))\n",
        "matriz2 = np.array([[a1,a2],\n",
        "                   [a3,a4]])\n",
        "\n",
        "print(matriz2)\n",
        "\n",
        "print(\"matriz resultante:\")\n",
        "resultante = (matriz) + (matriz2)\n",
        "print(resultante)\n"
      ],
      "metadata": {
        "colab": {
          "base_uri": "https://localhost:8080/"
        },
        "id": "JyVpbKlVlXXK",
        "outputId": "79ef987c-9cb8-4815-b83f-4df12802b2ce"
      },
      "execution_count": null,
      "outputs": [
        {
          "output_type": "stream",
          "name": "stdout",
          "text": [
            "digite o elemento:1\n",
            "digite o elemento:2\n",
            "digite o elemento:3\n",
            "digite o elemento:4\n",
            "[[1 2]\n",
            " [3 4]]\n",
            "segunda matriz:\n",
            "digite o elemento:5\n",
            "digite o elemento:6\n",
            "digite o elemento:7\n",
            "digite o elemento:8\n",
            "[[5 6]\n",
            " [7 8]]\n",
            "matriz resultante:\n",
            "[[ 6  8]\n",
            " [10 12]]\n"
          ]
        }
      ]
    },
    {
      "cell_type": "code",
      "execution_count": null,
      "metadata": {
        "colab": {
          "base_uri": "https://localhost:8080/"
        },
        "id": "4zcOStuiuWtu",
        "outputId": "bf0958da-1f4c-4ca5-e676-b9b50f05a80b"
      },
      "outputs": [
        {
          "output_type": "stream",
          "name": "stdout",
          "text": [
            "o dobro do numero é: 10\n"
          ]
        }
      ],
      "source": [
        "#22\n",
        "def dobro(numero):\n",
        "  return numero *2\n",
        "\n",
        "resultado = dobro(5)\n",
        "print(f'o dobro do numero é:',resultado)"
      ]
    },
    {
      "cell_type": "code",
      "source": [
        "#23\n",
        "def par_impar(numero):\n",
        "  if numero %2 ==0:\n",
        "    print(\"o numero é par\")\n",
        "  if numero %2 !=0:\n",
        "    print(\"o numero é impar\")\n",
        "    return numero\n",
        "resultado = par_impar(11)\n",
        "print(resultado)"
      ],
      "metadata": {
        "colab": {
          "base_uri": "https://localhost:8080/"
        },
        "id": "X8h60U9Ap-se",
        "outputId": "d34dddb0-13f8-4f63-d12e-81f19de8e0a5"
      },
      "execution_count": null,
      "outputs": [
        {
          "output_type": "stream",
          "name": "stdout",
          "text": [
            "o numero é impar\n",
            "11\n"
          ]
        }
      ]
    },
    {
      "cell_type": "code",
      "source": [
        "#24\n",
        "def impares(lista):\n",
        "    somar = 0\n",
        "    for i in lista:\n",
        "        if i % 2 != 0:\n",
        "            somar += i\n",
        "    return somar\n",
        "\n",
        "resultado = impares([1, 2, 3, 4])\n",
        "print(resultado)\n"
      ],
      "metadata": {
        "colab": {
          "base_uri": "https://localhost:8080/"
        },
        "id": "yaHHXqSKrFVN",
        "outputId": "78f7a2d5-ada8-49ad-fc86-d16fd6e07e0e"
      },
      "execution_count": null,
      "outputs": [
        {
          "output_type": "stream",
          "name": "stdout",
          "text": [
            "4\n"
          ]
        }
      ]
    },
    {
      "cell_type": "code",
      "source": [
        "#25\n",
        "import math\n",
        "\n",
        "numero = float(input(\"Digite um número para calcular sua raiz quadrada: \"))\n",
        "\n",
        "raiz_quadrada = math.sqrt(numero)\n",
        "\n",
        "print(f' a raiz quadrada do numero é:',raiz_quadrada)\n"
      ],
      "metadata": {
        "colab": {
          "base_uri": "https://localhost:8080/"
        },
        "id": "i8KMGhp9thyD",
        "outputId": "453fa61c-c95f-422d-9d98-ae34e30f6e89"
      },
      "execution_count": null,
      "outputs": [
        {
          "output_type": "stream",
          "name": "stdout",
          "text": [
            "Digite um número para calcular sua raiz quadrada: 81\n",
            " a raiz quadrada do numero é: 9.0\n"
          ]
        }
      ]
    },
    {
      "cell_type": "code",
      "source": [
        "#26\n",
        "from datetime import datetime\n",
        "\n",
        "data_str = input(\"Digite uma data no formato dd/mm/aaaa: \")\n",
        "\n",
        "data = datetime.strptime(data_str, \"%d/%m/%Y\")\n",
        "\n",
        "dia_da_semana = data.strftime(\"%A\")\n",
        "\n",
        "print(f\"A data {data_str} corresponde a um {dia_da_semana}.\")\n"
      ],
      "metadata": {
        "colab": {
          "base_uri": "https://localhost:8080/"
        },
        "id": "2v8eacmyu1Ja",
        "outputId": "1df71525-739f-4b9d-ab49-308e732fceb0"
      },
      "execution_count": null,
      "outputs": [
        {
          "output_type": "stream",
          "name": "stdout",
          "text": [
            "Digite uma data no formato dd/mm/aaaa: 16/09/2006\n",
            "A data 16/09/2006 corresponde a um Saturday.\n"
          ]
        }
      ]
    },
    {
      "cell_type": "code",
      "source": [
        "#27\n",
        "import random\n",
        "\n",
        "numero = int(input(\"Digite um número: \"))\n",
        "\n",
        "numero_aleatorio = random.randint(1, numero)\n",
        "\n",
        "print(numero_aleatorio)\n"
      ],
      "metadata": {
        "colab": {
          "base_uri": "https://localhost:8080/"
        },
        "id": "a3HkEn10vYJZ",
        "outputId": "7e60f546-c75f-43d9-d21f-eae0d319e93c"
      },
      "execution_count": null,
      "outputs": [
        {
          "output_type": "stream",
          "name": "stdout",
          "text": [
            "Digite um número: 4\n",
            "3\n"
          ]
        }
      ]
    },
    {
      "cell_type": "code",
      "source": [
        "#28\n",
        "import random\n",
        "\n",
        "numeros_aleatorios = []\n",
        "\n",
        "for i in range(5):\n",
        "    numeros_aleatorios.append(random.randint(1, 100))\n",
        "\n",
        "\n",
        "print(numeros_aleatorios)\n"
      ],
      "metadata": {
        "colab": {
          "base_uri": "https://localhost:8080/"
        },
        "id": "WWJmHrfRv-bZ",
        "outputId": "4b5b714d-1738-4e45-88d5-d526480670df"
      },
      "execution_count": null,
      "outputs": [
        {
          "output_type": "stream",
          "name": "stdout",
          "text": [
            "[42, 87, 38, 55, 18]\n"
          ]
        }
      ]
    },
    {
      "cell_type": "code",
      "source": [
        "#29\n",
        "import random\n",
        "import time\n",
        "\n",
        "resultado = random.randint(1, 6)\n",
        "\n",
        "print(\"Lançando o dado...\")\n",
        "time.sleep(2)\n",
        "\n",
        "print(f\"O resultado do lançamento do dado é: {resultado}\")\n"
      ],
      "metadata": {
        "colab": {
          "base_uri": "https://localhost:8080/"
        },
        "id": "dSy1PX1HwUT5",
        "outputId": "cc987ca0-3d04-41f1-fae5-0c3c86eec0a4"
      },
      "execution_count": null,
      "outputs": [
        {
          "output_type": "stream",
          "name": "stdout",
          "text": [
            "Lançando o dado...\n",
            "O resultado do lançamento do dado é: 2\n"
          ]
        }
      ]
    },
    {
      "cell_type": "code",
      "source": [
        "#30\n",
        "with open(\"texto.txt\", \"w\") as arquivo:\n",
        "    arquivo.write(\"Python é incrível!\")\n",
        "\n",
        "print(\"Frase escrita com sucesso no arquivo texto.txt!\")\n"
      ],
      "metadata": {
        "colab": {
          "base_uri": "https://localhost:8080/"
        },
        "id": "M-2-Bmtl_QJC",
        "outputId": "e3fb1cc5-e0e9-4348-aefe-1ed21ed55a35"
      },
      "execution_count": null,
      "outputs": [
        {
          "output_type": "stream",
          "name": "stdout",
          "text": [
            "Frase escrita com sucesso no arquivo texto.txt!\n"
          ]
        }
      ]
    },
    {
      "cell_type": "code",
      "source": [
        "#31\n",
        "\n",
        "with open(\"texto.txt\", \"r\") as arquivo:\n",
        "    conteudo = arquivo.read()\n",
        "\n",
        "print(\"Conteúdo do arquivo texto.txt:\")\n",
        "print(conteudo)\n"
      ],
      "metadata": {
        "colab": {
          "base_uri": "https://localhost:8080/"
        },
        "id": "YaxLDN2x_hu6",
        "outputId": "b5542817-b2b7-4184-8eb1-bb626a8c52ec"
      },
      "execution_count": null,
      "outputs": [
        {
          "output_type": "stream",
          "name": "stdout",
          "text": [
            "Conteúdo do arquivo texto.txt:\n",
            "Python é incrível!\n"
          ]
        }
      ]
    },
    {
      "cell_type": "code",
      "source": [
        "#32\n",
        "nome = input(\"Digite o nome: \")\n",
        "telefone = input(\"Digite o telefone: \")\n",
        "\n",
        "with open(\"contatos.txt\", \"a\") as arquivo:\n",
        "    arquivo.write(f\"Nome: {nome}, Telefone: {telefone}\\n\")\n",
        "\n",
        "print(\"Contato salvo com sucesso em contatos.txt!\")\n"
      ],
      "metadata": {
        "colab": {
          "base_uri": "https://localhost:8080/"
        },
        "id": "0-q-KlXnAISj",
        "outputId": "f2d683e4-03c2-45d8-9efc-3d20e718e2c3"
      },
      "execution_count": null,
      "outputs": [
        {
          "output_type": "stream",
          "name": "stdout",
          "text": [
            "Digite o nome: gabriel\n",
            "Digite o telefone: 999999\n",
            "Contato salvo com sucesso em contatos.txt!\n"
          ]
        }
      ]
    },
    {
      "cell_type": "code",
      "source": [
        "#33\n",
        "numero_str = input(\"Digite um número para dividir 100 por ele: \")\n",
        "\n",
        "if numero_str.isnumeric():\n",
        "    numero = float(numero_str)\n",
        "    if numero == 0:\n",
        "        print(\"Erro: Não é possível dividir por zero!\")\n",
        "    else:\n",
        "        resultado = 100 / numero\n",
        "        print(f\"O resultado de 100 dividido por {numero} é {resultado}\")\n",
        "else:\n",
        "    print(\"Erro: Você não digitou um número válido!\")\n"
      ],
      "metadata": {
        "colab": {
          "base_uri": "https://localhost:8080/"
        },
        "id": "T54yilpTAbs7",
        "outputId": "b84903ee-0397-4095-fa54-c179495cd097"
      },
      "execution_count": null,
      "outputs": [
        {
          "output_type": "stream",
          "name": "stdout",
          "text": [
            "Digite um número para dividir 100 por ele: 0\n",
            "Erro: Não é possível dividir por zero!\n"
          ]
        }
      ]
    },
    {
      "cell_type": "code",
      "source": [
        "#LISTA JULIO:\n",
        "#31\n",
        "import numpy as np\n",
        "matriz = np.array([[1,2,3,4,5],\n",
        "          [6,7,8,9,10],\n",
        "          [11,12,13,14,15],\n",
        "          [16,17,18,19,20],\n",
        "          [21,22,23,24,25]])\n",
        "\n",
        "print(matriz)\n",
        "print('------------------------------')\n",
        "soma_linha_tres = sum(matriz[3])\n",
        "print(f'a soma da linha 3 é:',soma_linha_tres)\n",
        "somar_coluna_dois = matriz[0,2] + matriz[1,2] + matriz[2,2] + matriz[3,2]+ matriz[4,2]\n",
        "print(f'a soma da coluna 2 é:',somar_coluna_dois)\n",
        "\n",
        "somar_dia = matriz[0,0] + matriz [1,1] + matriz[2,2] + matriz[3,3] + matriz[4,4]\n",
        "print(f'a soma das diagonais é:',somar_dia)\n",
        "\n",
        "somar_dia_dois = matriz[0,4] + matriz[1,3] + matriz[2,2] + matriz[3,1] + matriz[4,0]\n",
        "print(f'soma da diagonal secundaria é:',somar_dia_dois)\n",
        "\n",
        "todos = np.sum(matriz)\n",
        "print(f'a soma de todos é:',todos)"
      ],
      "metadata": {
        "id": "qMIicDMbBJEy",
        "colab": {
          "base_uri": "https://localhost:8080/"
        },
        "outputId": "7fb5e141-085b-4aca-e821-f9d5e3ce74e1"
      },
      "execution_count": null,
      "outputs": [
        {
          "output_type": "stream",
          "name": "stdout",
          "text": [
            "[[ 1  2  3  4  5]\n",
            " [ 6  7  8  9 10]\n",
            " [11 12 13 14 15]\n",
            " [16 17 18 19 20]\n",
            " [21 22 23 24 25]]\n",
            "------------------------------\n",
            "a soma da linha 3 é: 90\n",
            "a soma da coluna 2 é: 65\n",
            "a soma das diagonais é: 65\n",
            "soma da diagonal secundaria é: 65\n",
            "a soma de todos é: 325\n"
          ]
        }
      ]
    },
    {
      "cell_type": "code",
      "source": [
        "#32\n",
        "import numpy as np\n",
        "\n",
        "\n",
        "matrizA = np.array([\n",
        "    [1, 2, 3, 4, 5, 6],\n",
        "    [7, 8, 9, 10, 11, 12],\n",
        "    [13, 14, 15, 16, 17, 18],\n",
        "    [19, 20, 21, 22, 23, 24]\n",
        "])\n",
        "\n",
        "matrizB = np.array([\n",
        "    [24, 23, 22, 21, 20, 19],\n",
        "    [18, 17, 16, 15, 14, 13],\n",
        "    [12, 11, 10, 9, 8, 7],\n",
        "    [6, 5, 4, 3, 2, 1]\n",
        "])\n",
        "\n",
        "\n",
        "matrizS = matrizA + matrizB\n",
        "\n",
        "\n",
        "matrizD = matrizA - matrizB\n",
        "\n",
        "print(\"Matriz S:\")\n",
        "print(matrizS)\n",
        "\n",
        "print(\"\\nMatriz D:\")\n",
        "print(matrizD)\n"
      ],
      "metadata": {
        "colab": {
          "base_uri": "https://localhost:8080/"
        },
        "id": "kHOZtgjG7QOT",
        "outputId": "bf1b07f7-2313-4539-cd5d-b431a6ab093a"
      },
      "execution_count": null,
      "outputs": [
        {
          "output_type": "stream",
          "name": "stdout",
          "text": [
            "Matriz S:\n",
            "[[25 25 25 25 25 25]\n",
            " [25 25 25 25 25 25]\n",
            " [25 25 25 25 25 25]\n",
            " [25 25 25 25 25 25]]\n",
            "\n",
            "Matriz D:\n",
            "[[-23 -21 -19 -17 -15 -13]\n",
            " [-11  -9  -7  -5  -3  -1]\n",
            " [  1   3   5   7   9  11]\n",
            " [ 13  15  17  19  21  23]]\n"
          ]
        }
      ]
    },
    {
      "cell_type": "code",
      "source": [
        "#33\n",
        "import numpy as np\n",
        "a = np.array([\n",
        "    [1, 2, 3, 4],\n",
        "    [5, 6, 7, 8],\n",
        "    [9, 10, 11, 12],\n",
        "    [13, 14, 15, 16]\n",
        "])\n",
        "\n",
        "soma = 0\n",
        "for i in range(2):\n",
        "    for j in range(2):\n",
        "        soma += a[i][j]\n",
        "print(soma)\n",
        "\n",
        "soma = a[2][2] + a[2][3] + a[3][2] + a[3][3]\n",
        "print(soma)\n",
        "\n",
        "soma3 = 0\n",
        "for i in range(4):\n",
        "    for j in range(i + 1):\n",
        "        soma3 += a[i][j]\n",
        "\n",
        "print(soma3)\n",
        "\n",
        "soma4 = 0\n",
        "for i in range(4):\n",
        "    for j in range(4):\n",
        "        if i == 0 or i == 3 or j == 0 or j == 3:\n",
        "            soma4 += a[i][j]\n",
        "print(soma4)\n"
      ],
      "metadata": {
        "colab": {
          "base_uri": "https://localhost:8080/"
        },
        "id": "B4McnEZt9YSJ",
        "outputId": "a7a9da3c-db6f-4a31-e2ef-9619b9ed3985"
      },
      "execution_count": null,
      "outputs": [
        {
          "output_type": "stream",
          "name": "stdout",
          "text": [
            "14\n",
            "54\n",
            "100\n",
            "102\n"
          ]
        }
      ]
    },
    {
      "cell_type": "code",
      "source": [
        "#35\n",
        "G = []\n",
        "SL = [0] * 5\n",
        "SC = [0] * 5\n",
        "\n",
        "\n",
        "for i in range(5):\n",
        "    linha = []\n",
        "    for j in range(5):\n",
        "        valor = int(input(f\"G[{i}][{j}]: \"))\n",
        "        linha.append(valor)\n",
        "        SL[i] += valor\n",
        "        SC[j] += valor\n",
        "    G.append(linha)\n",
        "\n",
        "print(\"\\nVetor SL (somas das linhas):\", SL)\n",
        "print(\"Vetor SC (somas das colunas):\", SC)\n"
      ],
      "metadata": {
        "colab": {
          "base_uri": "https://localhost:8080/"
        },
        "id": "iRj9nfv1F093",
        "outputId": "baa83ce6-c249-4ebf-bc18-434ed60549a0"
      },
      "execution_count": null,
      "outputs": [
        {
          "output_type": "stream",
          "name": "stdout",
          "text": [
            "G[0][0]: 2\n",
            "G[0][1]: 2\n",
            "G[0][2]: 2\n",
            "G[0][3]: 2\n",
            "G[0][4]: 2\n",
            "G[1][0]: 2\n",
            "G[1][1]: 2\n",
            "G[1][2]: 2\n",
            "G[1][3]: 2\n",
            "G[1][4]: 2\n",
            "G[2][0]: 2\n",
            "G[2][1]: 2\n",
            "G[2][2]: 2\n",
            "G[2][3]: 2\n",
            "G[2][4]: 2\n",
            "G[3][0]: 2\n",
            "G[3][1]: 2\n",
            "G[3][2]: 2\n",
            "G[3][3]: 2\n",
            "G[3][4]: 2\n",
            "G[4][0]: 2\n",
            "G[4][1]: 2\n",
            "G[4][2]: 2\n",
            "G[4][3]: 2\n",
            "G[4][4]: 2\n",
            "\n",
            "Vetor SL (somas das linhas): [10, 10, 10, 10, 10]\n",
            "Vetor SC (somas das colunas): [10, 10, 10, 10, 10]\n"
          ]
        }
      ]
    },
    {
      "cell_type": "code",
      "source": [
        "#39\n",
        "def somar(a, b):\n",
        "    return a + b\n",
        "\n",
        "def subtrair(a, b):\n",
        "    return a - b\n",
        "\n",
        "def multiplicar(a, b):\n",
        "    return a * b\n",
        "\n",
        "def dividir(a, b):\n",
        "    if b == 0:\n",
        "        return \"Erro: divisão por zero\"\n",
        "    return a / b\n",
        "\n",
        "def calculadora():\n",
        "\n",
        "    try:\n",
        "        num1 = float(input(\"Digite o primeiro número: \"))\n",
        "        num2 = float(input(\"Digite o segundo número: \"))\n",
        "    except ValueError:\n",
        "        print(\"Erro: insira valores numéricos válidos.\")\n",
        "        return\n",
        "\n",
        "    operacao = input(\"Escolha a operação: \")\n",
        "\n",
        "    if operacao == '+':\n",
        "        resultado = somar(num1, num2)\n",
        "    elif operacao == '-':\n",
        "        resultado = subtrair(num1, num2)\n",
        "    elif operacao == '*':\n",
        "        resultado = multiplicar(num1, num2)\n",
        "    elif operacao == '/':\n",
        "        resultado = dividir(num1, num2)\n",
        "    else:\n",
        "        print(\"Operação inválida.\")\n",
        "        return\n",
        "\n",
        "    print(f\"O resultado é: {resultado}\")\n",
        "\n",
        "calculadora()\n",
        "\n",
        "\n"
      ],
      "metadata": {
        "colab": {
          "base_uri": "https://localhost:8080/"
        },
        "id": "yLP5gllDGEfC",
        "outputId": "da50f449-b711-4582-fc58-282c94cec1da"
      },
      "execution_count": 4,
      "outputs": [
        {
          "output_type": "stream",
          "name": "stdout",
          "text": [
            "Digite o primeiro número: 6\n",
            "Digite o segundo número: 6\n",
            "Escolha a operação: /\n",
            "O resultado é: 1.0\n"
          ]
        }
      ]
    },
    {
      "cell_type": "code",
      "source": [
        "#40\n",
        "def multiplicar_por_somas(a, b):\n",
        "    resultado = 0\n",
        "    negativo = False\n",
        "\n",
        "    if b < 0:\n",
        "        b = -b\n",
        "        negativo = True\n",
        "\n",
        "    for i in range(int(b)):\n",
        "        resultado += a\n",
        "\n",
        "    return -resultado if negativo else resultado\n",
        "\n",
        "r = multiplicar_por_somas(3,3)\n",
        "print(r)"
      ],
      "metadata": {
        "colab": {
          "base_uri": "https://localhost:8080/"
        },
        "id": "_QEc9MKYF3-W",
        "outputId": "0a1af9e5-12d5-404b-b2f4-c7ec8824e539"
      },
      "execution_count": 7,
      "outputs": [
        {
          "output_type": "stream",
          "name": "stdout",
          "text": [
            "9\n"
          ]
        }
      ]
    },
    {
      "cell_type": "code",
      "source": [
        "#41\n",
        "def velocidade_media(distancia_metros, tempo_segundos):\n",
        "    if tempo_segundos == 0:\n",
        "        return \"Erro\"\n",
        "    return distancia_metros / tempo_segundos\n"
      ],
      "metadata": {
        "id": "usxI3Kp5GkIW"
      },
      "execution_count": 8,
      "outputs": []
    },
    {
      "cell_type": "code",
      "source": [
        "#42\n",
        "# Função de divisão\n",
        "def divisao(a, b):\n",
        "    if b == 0:\n",
        "        return \"Erro\"\n",
        "    return a / b\n",
        "\n",
        "def velocidade_media(distancia_metros, tempo_segundos):\n",
        "    return divisao(distancia_metros, tempo_segundos)\n",
        "\n"
      ],
      "metadata": {
        "id": "hop-cWFaG8CD"
      },
      "execution_count": null,
      "outputs": []
    },
    {
      "cell_type": "code",
      "source": [
        "#43\n",
        "def organizar_numeros(numero):\n",
        "    numero_str = str(numero)\n",
        "\n",
        "    crescente = ''.join(sorted(numero_str))\n",
        "\n",
        "    decrescente = ''.join(sorted(numero_str, reverse=True))\n",
        "\n",
        "    reverso = numero_str[::-1]\n",
        "\n",
        "    print(f\"Recebido: {numero}\")\n",
        "    print(f\"Crescente: {crescente}\")\n",
        "    print(f\"Decrescente: {decrescente}\")\n",
        "    print(f\"Reverso: {reverso}\")\n",
        "\n",
        "organizar_numeros(123)\n",
        "\n"
      ],
      "metadata": {
        "colab": {
          "base_uri": "https://localhost:8080/"
        },
        "id": "dhj-SoVrHzty",
        "outputId": "7765480a-dea7-4c41-9c18-2382c30c3fbb"
      },
      "execution_count": 18,
      "outputs": [
        {
          "output_type": "stream",
          "name": "stdout",
          "text": [
            "Recebido: 123\n",
            "Crescente: 123\n",
            "Decrescente: 321\n",
            "Reverso: 321\n"
          ]
        }
      ]
    },
    {
      "cell_type": "code",
      "source": [
        "#44\n",
        "def converter_hora(hora24, minuto):\n",
        "    if hora24 == 0:\n",
        "        hora12 = 12\n",
        "        periodo = 'A'\n",
        "    elif hora24 < 12:\n",
        "        hora12 = hora24\n",
        "        periodo = 'A'\n",
        "    elif hora24 == 12:\n",
        "        hora12 = 12\n",
        "        periodo = 'P'\n",
        "    else:\n",
        "        hora12 = hora24 - 12\n",
        "        periodo = 'P'\n",
        "\n",
        "    return hora12, minuto, periodo\n",
        "\n",
        "def exibir_hora(hora12, minuto, periodo):\n",
        "    sufixo = 'A.M.' if periodo == 'A' else 'P.M.'\n",
        "    print(f\"Hora convertida: {hora12}:{minuto:02d} {sufixo}\")\n",
        "\n",
        "while True:\n",
        "    try:\n",
        "        h = int(input(\"Digite a hora (0 a 23): \"))\n",
        "        m = int(input(\"Digite os minutos (0 a 59): \"))\n",
        "\n",
        "        if not (0 <= h <= 23 and 0 <= m <= 59):\n",
        "            print(\"Hora ou minuto inválido.\")\n",
        "            continue\n",
        "\n",
        "        hora12, minuto, periodo = converter_hora(h, m)\n",
        "        exibir_hora(hora12, minuto, periodo)\n",
        "\n",
        "        repetir = input(\"Deseja converter outro horário? (s/n): \").lower()\n",
        "        if repetir != 's':\n",
        "            print(\"Encerrando o programa.\")\n",
        "            break\n",
        "\n",
        "    except ValueError:\n",
        "        print(\"Entrada inválida. Digite apenas números inteiros.\")\n"
      ],
      "metadata": {
        "colab": {
          "base_uri": "https://localhost:8080/"
        },
        "id": "hbECgJEXRu8i",
        "outputId": "7f79b598-7f58-4803-dfe7-f084d4616f4c"
      },
      "execution_count": 20,
      "outputs": [
        {
          "output_type": "stream",
          "name": "stdout",
          "text": [
            "Digite a hora (0 a 23): 23\n",
            "Digite os minutos (0 a 59): 23\n",
            "Hora convertida: 11:23 P.M.\n",
            "Deseja converter outro horário? (s/n): n\n",
            "Encerrando o programa.\n"
          ]
        }
      ]
    },
    {
      "cell_type": "code",
      "source": [
        "#45\n",
        "import datetime\n",
        "\n",
        "meses = [\n",
        "    \"janeiro\", \"fevereiro\", \"março\", \"abril\", \"maio\", \"junho\",\n",
        "    \"julho\", \"agosto\", \"setembro\", \"outubro\", \"novembro\", \"dezembro\"\n",
        "]\n",
        "\n",
        "def data_por_extenso(data_str):\n",
        "    try:\n",
        "        data = datetime.datetime.strptime(data_str, \"%d/%m/%Y\")\n",
        "\n",
        "        dia = data.day\n",
        "        mes = meses[data.month - 1]\n",
        "        ano = data.year\n",
        "\n",
        "        return f\"{dia} de {mes} de {ano}\"\n",
        "\n",
        "    except ValueError:\n",
        "        return None\n",
        "\n",
        "testar = input(\"Digite uma data (DD/MM/AAAA): \")\n",
        "resultado = data_por_extenso(testar)\n",
        "\n",
        "if resultado:\n",
        "    print(\"Data formatada:\", resultado)\n",
        "else:\n",
        "    print(\"Data inválida.\")\n"
      ],
      "metadata": {
        "colab": {
          "base_uri": "https://localhost:8080/"
        },
        "id": "erz3UyP2ShI5",
        "outputId": "d54078b5-d798-48c1-e2c6-053bd91e6ec4"
      },
      "execution_count": 22,
      "outputs": [
        {
          "output_type": "stream",
          "name": "stdout",
          "text": [
            "Digite uma data (DD/MM/AAAA): 20/3/2025\n",
            "Data formatada: 20 de março de 2025\n"
          ]
        }
      ]
    }
  ],
  "metadata": {
    "colab": {
      "provenance": [],
      "authorship_tag": "ABX9TyPKo2HYlyvLu1S3JfhnHMS8",
      "include_colab_link": true
    },
    "kernelspec": {
      "display_name": "Python 3",
      "name": "python3"
    },
    "language_info": {
      "name": "python"
    }
  },
  "nbformat": 4,
  "nbformat_minor": 0
}